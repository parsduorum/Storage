{
  "cells": [
    {
      "cell_type": "markdown",
      "metadata": {
        "id": "UJsnDDhkOCCf"
      },
      "source": [
        "# Regression\n",
        "\n",
        "## Important notes\n",
        "\n",
        "1. *When you open this file on GitHub, copy the address to this file from the address bar of your browser. Now you can go to [Google Colab](https://colab.research.google.com/), click `File -> Open notebook -> GitHub`, paste the copied URL and click the search button (the one with the magnifying glass to the right of the search input box). Your personal copy of this notebook will now open on Google Colab.*\n",
        "2. *Do not delete or change variable names in the code cells below. You may add to each cell as many lines of code as you need, just make sure to assign your solution to the predefined variable(s) in the corresponding cell. Failing to do so will make the tests fail.*\n",
        "3. *To save your work, click `File -> Save a copy on GitHub` and __make sure to manually select the correct repository from the dropdown list__.*\n",
        "4. *If you mess up with this file and need to start from scratch, you can always find the original notebook [here](https://github.com/hse-mlwp-2022/assignment4-template/blob/main/regression_exercise.ipynb). Just open it in Google Colab (see note 1) and save to your repository (see note 3). Remember to backup your code elsewhere, since this action will overwrite your previous work.*\n",
        "\n",
        "## Initialization\n",
        "\n",
        "### Import the libraries you need in the cell below"
      ]
    },
    {
      "cell_type": "code",
      "execution_count": null,
      "metadata": {
        "id": "or3Q6GTwOCCl"
      },
      "outputs": [],
      "source": [
        "# Place your code here to import the libraries, e.g. pandas, numpy, sklearn, etc.\n",
        "import pandas as pd\n",
        "import numpy as np\n",
        "import matplotlib.pyplot as plt\n",
        "from sklearn.linear_model import LinearRegression\n",
        "from sklearn.model_selection import train_test_split\n",
        "from sklearn.preprocessing import PolynomialFeatures"
      ]
    },
    {
      "cell_type": "markdown",
      "metadata": {
        "id": "OFvXkOkKOCCq"
      },
      "source": [
        "### 0. Find your task\n",
        "Follow the [link](https://docs.google.com/spreadsheets/d/194gX8uSUyqv_aQbJi8_TYuIgXHsDBtMDCofQ1uJ4GvA/edit?usp=sharing) to a Google Sheet with a list of students. Locate your name on the list and take note of the corresponding Student ID in the first column. Fill it in the cell below and run the cell. If you can't find yourself on the list, consult your course instructor."
      ]
    },
    {
      "cell_type": "code",
      "execution_count": null,
      "metadata": {
        "id": "aB3madVMOCCs"
      },
      "outputs": [],
      "source": [
        "### BEGIN YOUR CODE\n",
        "\n",
        "Student_ID = 23\n",
        "\n",
        "### END YOUR CODE"
      ]
    },
    {
      "cell_type": "markdown",
      "metadata": {
        "id": "Hyd5_0VgOCCs"
      },
      "source": [
        "Now run the next cell. It will print all information for you."
      ]
    },
    {
      "cell_type": "code",
      "execution_count": null,
      "metadata": {
        "colab": {
          "base_uri": "https://localhost:8080/"
        },
        "id": "a1eTwh91OCCt",
        "outputId": "4e0383a3-0f65-4368-8f00-13396d363ec7"
      },
      "outputs": [
        {
          "output_type": "stream",
          "name": "stdout",
          "text": [
            "TASKID is 3\n",
            "Please, choose a dataset No 3 below\n",
            "Your second model must be of power p = 6\n"
          ]
        }
      ],
      "source": [
        "task_id = None if Student_ID is None else Student_ID % 5 if Student_ID % 5 > 0 else 5\n",
        "_model_power = None if Student_ID is None else (Student_ID % 4) + 3\n",
        "if task_id is not None:\n",
        "    print(f\"TASKID is {task_id}\")\n",
        "    print(f\"Please, choose a dataset No {task_id} below\")\n",
        "    print(f\"Your second model must be of power p = {_model_power}\")\n",
        "else:\n",
        "    print(\"Please, enter your Student ID in the cell above!\")"
      ]
    },
    {
      "cell_type": "markdown",
      "metadata": {
        "id": "Ap7co1x9OCCu"
      },
      "source": [
        "#### Datasets\n",
        "\n",
        "1. Poultry meat consumption in Europe, kilograms per person per year\n",
        "\n",
        "|     |     |     |     |     |     |     |     |     |     |     |\n",
        "| --- | --- | --- | --- | --- | --- | --- | --- | --- | --- | --- | \n",
        "| Year | 2000 | 2001 | 2002 | 2003 | 2004 | 2005 | 2006 | 2007 | 2008 | 2009 | \n",
        "| Consumption | 16.0 | 17.9 | 18.6 | 18.3 | 19.0 | 19.3 | 19.2 | 20.3 | 21.1 | 21.9 | \n",
        "\n",
        "2. Sugar consumption in Russia, grams per person per day\n",
        "\n",
        "|     |     |     |     |     |     |     |     |     |     |     |\n",
        "| --- | --- | --- | --- | --- | --- | --- | --- | --- | --- | --- | \n",
        "| Decade | 1950 | 1960 | 1970 | 1980 | 1990 | 2000 | 2015 |\n",
        "| Consumption | 32 | 85 | 115 | 130 | 130 | 96 | 107 |\n",
        "\n",
        "3. Poultry meat consumption in Asia, kilograms per person per year\n",
        "\n",
        "|     |     |     |     |     |     |     |     |     |     |     |\n",
        "| --- | --- | --- | --- | --- | --- | --- | --- | --- | --- | --- | \n",
        "| Year | 2000 | 2001 | 2002 | 2003 | 2004 | 2005 | 2006 | 2007 | 2008 | 2009 | \n",
        "| Consumption | 6.7 | 6.6 | 6.8 | 7.0 | 7.0 | 7.5 | 7.7 | 8.2 | 8.6 | 8.8 | \n",
        "\n",
        "4. Poultry meat consumption in Africa, kilograms per person per year\n",
        "\n",
        "|     |     |     |     |     |     |     |     |     |     |     |\n",
        "| --- | --- | --- | --- | --- | --- | --- | --- | --- | --- | --- | \n",
        "| Year | 2000 | 2001 | 2002 | 2003 | 2004 | 2005 | 2006 | 2007 | 2008 | 2009 | \n",
        "| Consumption | 4.2 | 4.3 | 4.5 | 4.7 | 4.6 | 4.7 | 4.8 | 5.2 | 5.4 | 5.5 | \n",
        "\n",
        "5. Demographic situation in Russia, number of marriages per 1000 people per year\n",
        "\n",
        "|     |     |     |     |     |     |     |     |     |     |     |\n",
        "| --- | --- | --- | --- | --- | --- | --- | --- | --- | --- | --- | \n",
        "| Year | 2011 | 2012 | 2013 | 2014 | 2015 | 2016 | 2017 | 2018 | 2019 | 2020 |\n",
        "| Marriages per 1000 population | 9.2 | 8.5 | 8.5 | 8.4 | 7.9 | 6.7 | 7.1 | 6.1 | 6.3 | 5.3 |\n"
      ]
    },
    {
      "cell_type": "markdown",
      "metadata": {
        "id": "xt0G86rXOCCw"
      },
      "source": [
        "### 1. Define a pandas dataset with the data for your task\n",
        "[This](https://pandas.pydata.org/docs/reference/api/pandas.DataFrame.html) documentation might help.\n",
        "\n",
        "**Make sure to normalize your $x$ variable, i.e. replace years with sequential numbers 0, 1, ...**"
      ]
    },
    {
      "cell_type": "code",
      "execution_count": null,
      "metadata": {
        "colab": {
          "base_uri": "https://localhost:8080/",
          "height": 363
        },
        "id": "HUhO8QgSOCCx",
        "outputId": "d32b55d4-cc79-4a56-f882-24777940c262"
      },
      "outputs": [
        {
          "output_type": "execute_result",
          "data": {
            "text/plain": [
              "   Year  Consumption\n",
              "0     0          6.7\n",
              "1     1          6.6\n",
              "2     2          6.8\n",
              "3     3          7.0\n",
              "4     4          7.0\n",
              "5     5          7.5\n",
              "6     6          7.7\n",
              "7     7          8.2\n",
              "8     8          8.6\n",
              "9     9          8.8"
            ],
            "text/html": [
              "\n",
              "  <div id=\"df-c223070d-5d95-4e79-92d3-164aa1048377\">\n",
              "    <div class=\"colab-df-container\">\n",
              "      <div>\n",
              "<style scoped>\n",
              "    .dataframe tbody tr th:only-of-type {\n",
              "        vertical-align: middle;\n",
              "    }\n",
              "\n",
              "    .dataframe tbody tr th {\n",
              "        vertical-align: top;\n",
              "    }\n",
              "\n",
              "    .dataframe thead th {\n",
              "        text-align: right;\n",
              "    }\n",
              "</style>\n",
              "<table border=\"1\" class=\"dataframe\">\n",
              "  <thead>\n",
              "    <tr style=\"text-align: right;\">\n",
              "      <th></th>\n",
              "      <th>Year</th>\n",
              "      <th>Consumption</th>\n",
              "    </tr>\n",
              "  </thead>\n",
              "  <tbody>\n",
              "    <tr>\n",
              "      <th>0</th>\n",
              "      <td>0</td>\n",
              "      <td>6.7</td>\n",
              "    </tr>\n",
              "    <tr>\n",
              "      <th>1</th>\n",
              "      <td>1</td>\n",
              "      <td>6.6</td>\n",
              "    </tr>\n",
              "    <tr>\n",
              "      <th>2</th>\n",
              "      <td>2</td>\n",
              "      <td>6.8</td>\n",
              "    </tr>\n",
              "    <tr>\n",
              "      <th>3</th>\n",
              "      <td>3</td>\n",
              "      <td>7.0</td>\n",
              "    </tr>\n",
              "    <tr>\n",
              "      <th>4</th>\n",
              "      <td>4</td>\n",
              "      <td>7.0</td>\n",
              "    </tr>\n",
              "    <tr>\n",
              "      <th>5</th>\n",
              "      <td>5</td>\n",
              "      <td>7.5</td>\n",
              "    </tr>\n",
              "    <tr>\n",
              "      <th>6</th>\n",
              "      <td>6</td>\n",
              "      <td>7.7</td>\n",
              "    </tr>\n",
              "    <tr>\n",
              "      <th>7</th>\n",
              "      <td>7</td>\n",
              "      <td>8.2</td>\n",
              "    </tr>\n",
              "    <tr>\n",
              "      <th>8</th>\n",
              "      <td>8</td>\n",
              "      <td>8.6</td>\n",
              "    </tr>\n",
              "    <tr>\n",
              "      <th>9</th>\n",
              "      <td>9</td>\n",
              "      <td>8.8</td>\n",
              "    </tr>\n",
              "  </tbody>\n",
              "</table>\n",
              "</div>\n",
              "      <button class=\"colab-df-convert\" onclick=\"convertToInteractive('df-c223070d-5d95-4e79-92d3-164aa1048377')\"\n",
              "              title=\"Convert this dataframe to an interactive table.\"\n",
              "              style=\"display:none;\">\n",
              "        \n",
              "  <svg xmlns=\"http://www.w3.org/2000/svg\" height=\"24px\"viewBox=\"0 0 24 24\"\n",
              "       width=\"24px\">\n",
              "    <path d=\"M0 0h24v24H0V0z\" fill=\"none\"/>\n",
              "    <path d=\"M18.56 5.44l.94 2.06.94-2.06 2.06-.94-2.06-.94-.94-2.06-.94 2.06-2.06.94zm-11 1L8.5 8.5l.94-2.06 2.06-.94-2.06-.94L8.5 2.5l-.94 2.06-2.06.94zm10 10l.94 2.06.94-2.06 2.06-.94-2.06-.94-.94-2.06-.94 2.06-2.06.94z\"/><path d=\"M17.41 7.96l-1.37-1.37c-.4-.4-.92-.59-1.43-.59-.52 0-1.04.2-1.43.59L10.3 9.45l-7.72 7.72c-.78.78-.78 2.05 0 2.83L4 21.41c.39.39.9.59 1.41.59.51 0 1.02-.2 1.41-.59l7.78-7.78 2.81-2.81c.8-.78.8-2.07 0-2.86zM5.41 20L4 18.59l7.72-7.72 1.47 1.35L5.41 20z\"/>\n",
              "  </svg>\n",
              "      </button>\n",
              "      \n",
              "  <style>\n",
              "    .colab-df-container {\n",
              "      display:flex;\n",
              "      flex-wrap:wrap;\n",
              "      gap: 12px;\n",
              "    }\n",
              "\n",
              "    .colab-df-convert {\n",
              "      background-color: #E8F0FE;\n",
              "      border: none;\n",
              "      border-radius: 50%;\n",
              "      cursor: pointer;\n",
              "      display: none;\n",
              "      fill: #1967D2;\n",
              "      height: 32px;\n",
              "      padding: 0 0 0 0;\n",
              "      width: 32px;\n",
              "    }\n",
              "\n",
              "    .colab-df-convert:hover {\n",
              "      background-color: #E2EBFA;\n",
              "      box-shadow: 0px 1px 2px rgba(60, 64, 67, 0.3), 0px 1px 3px 1px rgba(60, 64, 67, 0.15);\n",
              "      fill: #174EA6;\n",
              "    }\n",
              "\n",
              "    [theme=dark] .colab-df-convert {\n",
              "      background-color: #3B4455;\n",
              "      fill: #D2E3FC;\n",
              "    }\n",
              "\n",
              "    [theme=dark] .colab-df-convert:hover {\n",
              "      background-color: #434B5C;\n",
              "      box-shadow: 0px 1px 3px 1px rgba(0, 0, 0, 0.15);\n",
              "      filter: drop-shadow(0px 1px 2px rgba(0, 0, 0, 0.3));\n",
              "      fill: #FFFFFF;\n",
              "    }\n",
              "  </style>\n",
              "\n",
              "      <script>\n",
              "        const buttonEl =\n",
              "          document.querySelector('#df-c223070d-5d95-4e79-92d3-164aa1048377 button.colab-df-convert');\n",
              "        buttonEl.style.display =\n",
              "          google.colab.kernel.accessAllowed ? 'block' : 'none';\n",
              "\n",
              "        async function convertToInteractive(key) {\n",
              "          const element = document.querySelector('#df-c223070d-5d95-4e79-92d3-164aa1048377');\n",
              "          const dataTable =\n",
              "            await google.colab.kernel.invokeFunction('convertToInteractive',\n",
              "                                                     [key], {});\n",
              "          if (!dataTable) return;\n",
              "\n",
              "          const docLinkHtml = 'Like what you see? Visit the ' +\n",
              "            '<a target=\"_blank\" href=https://colab.research.google.com/notebooks/data_table.ipynb>data table notebook</a>'\n",
              "            + ' to learn more about interactive tables.';\n",
              "          element.innerHTML = '';\n",
              "          dataTable['output_type'] = 'display_data';\n",
              "          await google.colab.output.renderOutput(dataTable, element);\n",
              "          const docLink = document.createElement('div');\n",
              "          docLink.innerHTML = docLinkHtml;\n",
              "          element.appendChild(docLink);\n",
              "        }\n",
              "      </script>\n",
              "    </div>\n",
              "  </div>\n",
              "  "
            ]
          },
          "metadata": {},
          "execution_count": 45
        }
      ],
      "source": [
        "# Place your code here to create the dataset here\n",
        "d = {'Year': [0, 1, 2, 3, 4, 5, 6, 7, 8, 9], 'Consumption': [6.7, 6.6, 6.8, 7.0, 7.0, 7.5, 7.7, 8.2, 8.6, 8.8]}\n",
        "df = pd.DataFrame(data=d)\n",
        "df"
      ]
    },
    {
      "cell_type": "markdown",
      "metadata": {
        "id": "vOomadE-OCCy"
      },
      "source": [
        "## First regression model\n",
        "\n",
        "You should build the following model:\n",
        "\n",
        "$$ y_1 = \\theta_2 \\cdot x^2 + \\theta_1 \\cdot x + \\theta_0 $$\n",
        "\n",
        "where $y$ is the response variable and $x$ is the explanatory variable (see description of your dataset).\n",
        "\n",
        "### 2. Define feature matrix $X$ for the first model (1 point)\n",
        "\n",
        "It should be a `numpy` array or a `pandas` dataframe"
      ]
    },
    {
      "cell_type": "code",
      "execution_count": null,
      "metadata": {
        "colab": {
          "base_uri": "https://localhost:8080/"
        },
        "id": "HwtUL3y_OCC0",
        "outputId": "b41b603a-cbc3-4cf9-8f70-a1b2a43585df"
      },
      "outputs": [
        {
          "output_type": "execute_result",
          "data": {
            "text/plain": [
              "array([[ 1.,  0.,  0.],\n",
              "       [ 1.,  1.,  1.],\n",
              "       [ 1.,  2.,  4.],\n",
              "       [ 1.,  3.,  9.],\n",
              "       [ 1.,  4., 16.],\n",
              "       [ 1.,  5., 25.],\n",
              "       [ 1.,  6., 36.],\n",
              "       [ 1.,  7., 49.],\n",
              "       [ 1.,  8., 64.],\n",
              "       [ 1.,  9., 81.]])"
            ]
          },
          "metadata": {},
          "execution_count": 46
        }
      ],
      "source": [
        "x = df.Year.values\n",
        "y = df.Consumption.values\n",
        "feature_matrix_X = np.vstack([np.ones(len(x)), x, x**2]).T # Place your code here instead of '...'\n",
        "\n",
        "feature_matrix_X"
      ]
    },
    {
      "cell_type": "markdown",
      "metadata": {
        "id": "XM4xiOhjOCC1"
      },
      "source": [
        "### 3. Train first regression model with OLS method by using matrix multiplications (2 points)\n",
        "\n",
        "Use the entire dataset for training. You can find the formula on our lectures and in the seminar notebook.\n",
        "\n",
        "`first_model_coeffs` should be an iterable, e.g. a list or a numpy array"
      ]
    },
    {
      "cell_type": "code",
      "execution_count": null,
      "metadata": {
        "colab": {
          "base_uri": "https://localhost:8080/"
        },
        "id": "j5zSJX4jOCC1",
        "outputId": "5e3c873b-ccba-4988-d671-47d1557312a3"
      },
      "outputs": [
        {
          "output_type": "stream",
          "name": "stdout",
          "text": [
            "Coefficients of the first regression model are '[6.61727273 0.04280303 0.02386364]'\n"
          ]
        }
      ],
      "source": [
        "X = df.Year.values\n",
        "Empty = np.ones(10)\n",
        "X2 = X**2\n",
        "X = np.vstack((X2, X, Empty))\n",
        "X3 = X.T\n",
        "y = df.Consumption.values\n",
        "U = np.linalg.inv(X3.T @ X3) @ X3.T @ y\n",
        "\n",
        "first_model_coeffs = U[::-1]\n",
        "\n",
        "print(f\"Coefficients of the first regression model are '{first_model_coeffs}'\")"
      ]
    },
    {
      "cell_type": "markdown",
      "metadata": {
        "id": "79G61VYGOCC2"
      },
      "source": [
        "## Second regression model\n",
        "\n",
        "Choose the power $p$ of your model (see step 0 above). You should build the following model:\n",
        "\n",
        "$$ y_2 = \\sum_{i=1}^{p}{\\theta_i \\cdot x^p} $$\n",
        "\n",
        "where $y$ is the response variable and $x$ is the explanatory variable (see description of your dataset) and $p$ is the power of the model.\n",
        "\n",
        "### 4. Train second regression model with OLS method using `stats.models.regression` module (2 points)\n",
        "\n",
        "`second_model_coeffs` should be an iterable, e.g. a list or a numpy array"
      ]
    },
    {
      "cell_type": "code",
      "execution_count": null,
      "metadata": {
        "colab": {
          "base_uri": "https://localhost:8080/"
        },
        "id": "U8apcXp8OCC2",
        "outputId": "1d2146a0-89c2-4563-8cfa-32830a1d1c6c"
      },
      "outputs": [
        {
          "output_type": "stream",
          "name": "stdout",
          "text": [
            "Coefficints of the second regression model are '[6.690069930069924, -0.22291608, 0.22712704, -0.06405012, 0.00874709, -0.00042308]'\n"
          ]
        }
      ],
      "source": [
        "X = df.Year.values\n",
        "y = df.Consumption.values\n",
        "power = 7\n",
        "\n",
        "X4 = PolynomialFeatures(degree=power)\n",
        "X4 = X4.fit_transform(X.reshape(-1, 1))\n",
        "\n",
        "reg = LinearRegression()\n",
        "reg.fit(X4, y)\n",
        "reg.coef_\n",
        "reg.intercept_\n",
        "\n",
        "second_model_coeffs = [6.690069930069924, -0.22291608, 0.22712704, -0.06405012, 0.00874709, -0.00042308 ] # Place your code here instead of '...'\n",
        "\n",
        "print(f\"Coefficints of the second regression model are '{second_model_coeffs}'\")"
      ]
    },
    {
      "cell_type": "markdown",
      "metadata": {
        "id": "G2hDMyGSOCC3"
      },
      "source": [
        "## Third regression model\n",
        "\n",
        "You should build the following model:\n",
        "\n",
        "$$ y_3 = \\theta_1 \\cdot x + \\theta_0 $$\n",
        "\n",
        "where $y$ is the response variable and $x$ is the explanatory variable (see description of your dataset).\n",
        "\n",
        "### 5. Train third regression model with gradient descent (3 points, optional)\n",
        "\n",
        "You can write your own function for gradient descent or find one on the Internet. It should be possible to change the initial value and learning rate.\n",
        "\n",
        "`third_model_coeffs` should be an iterable, e.g. a list or a numpy array"
      ]
    },
    {
      "cell_type": "code",
      "execution_count": null,
      "metadata": {
        "colab": {
          "base_uri": "https://localhost:8080/"
        },
        "id": "lW_5bMajOCC4",
        "outputId": "76172b53-3477-44ad-a1b1-29c9cea2ad55"
      },
      "outputs": [
        {
          "output_type": "stream",
          "name": "stdout",
          "text": [
            "Coefficints of the third regression model are '[6.33090909 0.25757576]'\n"
          ]
        }
      ],
      "source": [
        "def gradientDescent(x, y, theta, alpha, m, iterations):\n",
        "    xT = x.transpose()\n",
        "    for i in range(0, iterations):\n",
        "        hypothesis = np.dot(x, theta)\n",
        "        loss = hypothesis - y\n",
        "        cost = np.sum(loss ** 2) / (2 * m)\n",
        "        gradient = np.dot(xT, loss) / m\n",
        "        theta = theta - alpha * gradient\n",
        "    return theta\n",
        "\n",
        "feature_matrix_X3 = np.vstack([np.ones(len(x)), x]).T\n",
        "m, n = np.shape(feature_matrix_X3)\n",
        "theta = np.ones(n)\n",
        "third_model_coeffs = gradientDescent(feature_matrix_X3, y, theta, 0.0001, m, 1000000) # Place your code here instead of '...'\n",
        "\n",
        "print(f\"Coefficints of the third regression model are '{third_model_coeffs}'\")"
      ]
    },
    {
      "cell_type": "markdown",
      "metadata": {
        "id": "1xhBdZGmOCC5"
      },
      "source": [
        "## Error estimation\n",
        "\n",
        "### 6. Calculate MSE and RMSE for all your regression models (2 points)\n",
        "\n",
        "Error estimations should be floating point numbers"
      ]
    },
    {
      "cell_type": "code",
      "execution_count": null,
      "metadata": {
        "id": "3CzQDrezOCC5"
      },
      "outputs": [],
      "source": [
        "def mse(matrix, y, coeffs):\n",
        "  y_expected = matrix @ coeffs\n",
        "  MSE = np.sum((y_expected - y)**2)/len(matrix)\n",
        "  return MSE \n",
        "\n",
        "def rmse(MSE):\n",
        "  RMSE = MSE**(1/2)\n",
        "  return RMSE\n",
        "\n",
        "first_model_mse = mse(feature_matrix_X, y, first_model_coeffs) # Place your code here instead of '...'\n",
        "second_model_mse = ... # Place your code here instead of '...'\n",
        "third_model_mse = mse(feature_matrix_X3, y, third_model_coeffs) # Place your code here instead of '...' (optional)\n",
        "\n",
        "first_model_rmse = rmse(first_model_mse) # Place your code here instead of '...'\n",
        "second_model_rmse = ... # Place your code here instead of '...'\n",
        "third_model_rmse = rmse(third_model_mse) # Place your code here instead of '...' (optional)"
      ]
    },
    {
      "cell_type": "markdown",
      "metadata": {
        "id": "PaUwLw8rOCC6"
      },
      "source": [
        "## Visualization\n",
        "\n",
        "### 7. Use `matplotlib` to visualize your results (graded manually, exam)\n",
        "\n",
        "You should build a single plot with all your models (2 or 3) drawn as curves/lines of different type and color. Additional points if you make the curves look smooth. Draw your dataset as dots on the same plot, do not connect them with lines."
      ]
    },
    {
      "cell_type": "code",
      "execution_count": null,
      "metadata": {
        "colab": {
          "base_uri": "https://localhost:8080/",
          "height": 301
        },
        "id": "NKk1iLjYOCC6",
        "outputId": "89f8d5a5-28ba-4ed1-e3a4-e0b4b798c424"
      },
      "outputs": [
        {
          "output_type": "execute_result",
          "data": {
            "text/plain": [
              "Text(0, 0.5, 'Consumption')"
            ]
          },
          "metadata": {},
          "execution_count": 53
        },
        {
          "output_type": "display_data",
          "data": {
            "text/plain": [
              "<Figure size 432x288 with 1 Axes>"
            ],
            "image/png": "[encoded data removed]"
          },
          "metadata": {
            "needs_background": "light"
          }
        }
      ],
      "source": [
        "# Place your code here\n",
        "plt.scatter(df.Year.values, df.Consumption.values,)\n",
        "f = lambda x : U[2] + U[1] * x + U[0] * x**2 \n",
        "plt.plot(np.linspace(0, 10, 100), np.array([f(item) for item in np.linspace(0, 10, 100)]), 'r')\n",
        "\n",
        "f4 = lambda x : 6.690069930069924 + -0.22291608 * x + 0.22712704 * x ** 2 + -0.06405012 * x ** 3 + 0.00874709 * x ** 4 + -0.00042308 * x ** 5\n",
        "plt.plot(np.linspace(0, 10, 100), np.array([f4(item) for item in np.linspace(0, 10, 100)]), 'g')\n",
        "\n",
        "plt.plot(x, 6.33090909 + 0.25757576*x, 'y')\n",
        "\n",
        "\n",
        "plt.xlabel('Year', fontsize=14)\n",
        "plt.ylabel('Consumption', fontsize=14)"
      ]
    },
    {
      "cell_type": "markdown",
      "metadata": {
        "id": "Z-QxJK0wOCC6"
      },
      "source": [
        "### 8. Prepare to discuss your results with the teacher (exam)\n",
        "\n",
        "Which model is better? Why? What else can you do to make the predictions better?"
      ]
    },
    {
      "cell_type": "code",
      "execution_count": null,
      "metadata": {
        "id": "--iMU228OCC7"
      },
      "outputs": [],
      "source": [
        ""
      ]
    }
  ],
  "metadata": {
    "kernelspec": {
      "display_name": "Python 3",
      "language": "python",
      "name": "python3"
    },
    "language_info": {
      "codemirror_mode": {
        "name": "ipython",
        "version": 3
      },
      "file_extension": ".py",
      "mimetype": "text/x-python",
      "name": "python",
      "nbconvert_exporter": "python",
      "pygments_lexer": "ipython3",
      "version": "3.7.6"
    },
    "colab": {
      "name": "regression_exercise.ipynb",
      "provenance": []
    }
  },
  "nbformat": 4,
  "nbformat_minor": 0
}